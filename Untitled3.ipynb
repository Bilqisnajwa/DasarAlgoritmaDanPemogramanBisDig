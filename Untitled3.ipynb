{
  "nbformat": 4,
  "nbformat_minor": 0,
  "metadata": {
    "colab": {
      "provenance": [],
      "authorship_tag": "ABX9TyOyRIHe78s6p+bwcqK6jzqf",
      "include_colab_link": true
    },
    "kernelspec": {
      "name": "python3",
      "display_name": "Python 3"
    },
    "language_info": {
      "name": "python"
    }
  },
  "cells": [
    {
      "cell_type": "markdown",
      "metadata": {
        "id": "view-in-github",
        "colab_type": "text"
      },
      "source": [
        "<a href=\"https://colab.research.google.com/github/Bilqisnajwa/DasarAlgoritmaDanPemogramanBisDig/blob/main/Untitled3.ipynb\" target=\"_parent\"><img src=\"https://colab.research.google.com/assets/colab-badge.svg\" alt=\"Open In Colab\"/></a>"
      ]
    },
    {
      "cell_type": "markdown",
      "source": [
        "NO 1"
      ],
      "metadata": {
        "id": "_nJRbNEOpUri"
      }
    },
    {
      "cell_type": "code",
      "execution_count": 3,
      "metadata": {
        "colab": {
          "base_uri": "https://localhost:8080/"
        },
        "id": "CH-htk9RnEvn",
        "outputId": "da18f690-8130-4976-ccce-6f83cf05bed4"
      },
      "outputs": [
        {
          "output_type": "stream",
          "name": "stdout",
          "text": [
            "Masukkan bilangan bulat non-negatif: 20\n",
            "Faktorial dari 20 adalah 2432902008176640000\n"
          ]
        }
      ],
      "source": [
        "\n",
        "\n",
        "def faktorial_rekursif(n):\n",
        "  \"\"\"\n",
        "  Menghitung faktorial dari bilangan n menggunakan rekursi.\n",
        "\n",
        "  Args:\n",
        "    n: Bilangan bulat non-negatif.\n",
        "\n",
        "  Returns:\n",
        "    Faktorial dari n. Mengembalikan 1 jika n adalah 0.\n",
        "    Mengembalikan pesan kesalahan jika n negatif.\n",
        "  \"\"\"\n",
        "  if n < 0:\n",
        "    return \"Faktorial tidak terdefinisi untuk bilangan negatif\"\n",
        "  elif n == 0:\n",
        "    return 1\n",
        "  else:\n",
        "    return n * faktorial_rekursif(n - 1)\n",
        "\n",
        "# Meminta input dari pengguna\n",
        "angka = int(input(\"Masukkan bilangan bulat non-negatif: \"))\n",
        "\n",
        "# Menghitung faktorial menggunakan fungsi rekursif\n",
        "hasil_faktorial = faktorial_rekursif(angka)\n",
        "\n",
        "# Menampilkan hasil\n",
        "print(f\"Faktorial dari {angka} adalah {hasil_faktorial}\")"
      ]
    },
    {
      "cell_type": "markdown",
      "source": [
        "NO 2"
      ],
      "metadata": {
        "id": "YdP2qptcpXmH"
      }
    },
    {
      "cell_type": "code",
      "source": [
        "def input_nilai_tertinggi():\n",
        "  \"\"\"\n",
        "  Menerima input nilai tertinggi dan posisi siswa yang mendapatkannya.\n",
        "\n",
        "  Returns:\n",
        "    Sebuah tuple berisi (nilai_tertinggi, posisi_siswa).\n",
        "    Mengembalikan None jika input tidak valid.\n",
        "  \"\"\"\n",
        "  try:\n",
        "    nilai = float(input(\"Masukkan nilai tertinggi: \"))\n",
        "    posisi = int(input(\"Siswa ke berapa yang mendapatkan nilai tersebut: \"))\n",
        "    if posisi <= 0:\n",
        "      print(\"Posisi siswa harus bilangan bulat positif.\")\n",
        "      return None\n",
        "    return nilai, posisi\n",
        "  except ValueError:\n",
        "    print(\"Input tidak valid. Harap masukkan angka untuk nilai dan bilangan bulat untuk posisi.\")\n",
        "    return None\n",
        "\n",
        "# Memanggil fungsi untuk mendapatkan input\n",
        "hasil_input = input_nilai_tertinggi()\n",
        "\n",
        "# Menampilkan hasil input jika valid\n",
        "if hasil_input:\n",
        "  nilai_tertinggi, posisi_siswa = hasil_input\n",
        "  print(f\"\\nNilai tertinggi adalah: {nilai_tertinggi}\")\n",
        "  print(f\"Didapatkan oleh siswa ke: {posisi_siswa}\")"
      ],
      "metadata": {
        "colab": {
          "base_uri": "https://localhost:8080/"
        },
        "id": "KJqlfwrdoUHD",
        "outputId": "5694363c-2bd9-4e6a-99e7-6ac27d7175ea"
      },
      "execution_count": 5,
      "outputs": [
        {
          "output_type": "stream",
          "name": "stdout",
          "text": [
            "Masukkan nilai tertinggi: 87\n",
            "Siswa ke berapa yang mendapatkan nilai tersebut: 86\n",
            "\n",
            "Nilai tertinggi adalah: 87.0\n",
            "Didapatkan oleh siswa ke: 86\n"
          ]
        }
      ]
    },
    {
      "cell_type": "markdown",
      "source": [
        "NO 3"
      ],
      "metadata": {
        "id": "AH12G6xppZMt"
      }
    },
    {
      "cell_type": "code",
      "source": [
        "def hitung_total_bayar(total_belanja):\n",
        "  \"\"\"\n",
        "  Menghitung total pembayaran setelah diskon berdasarkan total belanja.\n",
        "\n",
        "  Args:\n",
        "    total_belanja: Jumlah total belanja sebelum diskon.\n",
        "\n",
        "  Returns:\n",
        "    Jumlah total pembayaran setelah diskon.\n",
        "  \"\"\"\n",
        "  diskon = 0\n",
        "  syarat_diskon = 500000  # Contoh: Diskon diberikan jika total belanja lebih dari Rp 100.000\n",
        "  persentase_diskon = 0.10 # Contoh: Diskon sebesar 10%\n",
        "\n",
        "  if total_belanja > syarat_diskon:\n",
        "    diskon = total_belanja * persentase_diskon\n",
        "    total_bayar = total_belanja - diskon\n",
        "    print(f\"Selamat! Anda mendapatkan diskon sebesar {persentase_diskon*100:.0f}%.\")\n",
        "    print(f\"Diskon yang Anda dapatkan adalah: Rp {diskon:.2f}\")\n",
        "  else:\n",
        "    total_bayar = total_belanja\n",
        "    print(\"Maaf, Anda belum memenuhi syarat untuk mendapatkan diskon.\")\n",
        "\n",
        "  return total_bayar\n",
        "\n",
        "# Meminta input total belanja dari pengguna\n",
        "try:\n",
        "  belanja = float(input(\"Masukkan total belanja Anda: Rp \"))\n",
        "  if belanja < 0:\n",
        "    print(\"Total belanja tidak bisa negatif.\")\n",
        "  else:\n",
        "    total_pembayaran = hitung_total_bayar(belanja)\n",
        "    print(f\"Total pembayaran Anda adalah: Rp {total_pembayaran:.2f}\")\n",
        "except ValueError:\n",
        "  print(\"Input tidak valid. Harap masukkan angka untuk total belanja.\")"
      ],
      "metadata": {
        "colab": {
          "base_uri": "https://localhost:8080/"
        },
        "id": "TQ4ooEMIpICM",
        "outputId": "9c8588f2-3d11-4bd3-c343-29fda8905659"
      },
      "execution_count": 6,
      "outputs": [
        {
          "output_type": "stream",
          "name": "stdout",
          "text": [
            "Masukkan total belanja Anda: Rp 1523000\n",
            "Selamat! Anda mendapatkan diskon sebesar 10%.\n",
            "Diskon yang Anda dapatkan adalah: Rp 152300.00\n",
            "Total pembayaran Anda adalah: Rp 1370700.00\n"
          ]
        }
      ]
    },
    {
      "cell_type": "markdown",
      "source": [
        "NO 4"
      ],
      "metadata": {
        "id": "DZzfva9lp4GP"
      }
    },
    {
      "cell_type": "code",
      "source": [
        "def hitung_total():\n",
        "  \"\"\"\n",
        "  Membaca harga 3 barang dari input pengguna dan menghitung totalnya.\n",
        "  \"\"\"\n",
        "  try:\n",
        "    harga1 = float(input(\"Masukkan harga barang pertama: Rp \"))\n",
        "    harga2 = float(input(\"Masukkan harga barang kedua: Rp \"))\n",
        "    harga3 = float(input(\"Masukkan harga barang ketiga: Rp \"))\n",
        "\n",
        "    if harga1 < 0 or harga2 < 0 or harga3 < 0:\n",
        "      print(\"Harga barang tidak bisa negatif.\")\n",
        "    else:\n",
        "      total_bayar = harga1 + harga2 + harga3\n",
        "      print(f\"\\nTotal pembayaran Anda adalah: Rp {total_bayar:.2f}\")\n",
        "\n",
        "  except ValueError:\n",
        "    print(\"Input tidak valid. Harap masukkan angka untuk harga barang.\")\n",
        "\n",
        "# Memanggil fungsi untuk menghitung total\n",
        "hitung_total()"
      ],
      "metadata": {
        "colab": {
          "base_uri": "https://localhost:8080/"
        },
        "id": "l0jsG2wBpvt3",
        "outputId": "1e949439-b33b-49c5-a313-ec5aca4fd8c1"
      },
      "execution_count": 7,
      "outputs": [
        {
          "output_type": "stream",
          "name": "stdout",
          "text": [
            "Masukkan harga barang pertama: Rp 15000\n",
            "Masukkan harga barang kedua: Rp 25000\n",
            "Masukkan harga barang ketiga: Rp 97800\n",
            "\n",
            "Total pembayaran Anda adalah: Rp 137800.00\n"
          ]
        }
      ]
    },
    {
      "cell_type": "markdown",
      "source": [
        "NO 5"
      ],
      "metadata": {
        "id": "GDvvfCaPqZav"
      }
    },
    {
      "cell_type": "code",
      "source": [
        "def hitung_rata_rata_dan_status():\n",
        "  \"\"\"\n",
        "  Menerima input nilai, menghitung rata-rata, dan menampilkan status kelulusan.\n",
        "  \"\"\"\n",
        "  daftar_nilai = []\n",
        "  while True:\n",
        "    try:\n",
        "      nilai = input(\"Masukkan nilai (atau ketik 'selesai' untuk mengakhiri): \")\n",
        "      if nilai.lower() == 'selesai':\n",
        "        break\n",
        "      nilai = float(nilai)\n",
        "      if nilai < 0 or nilai > 100:\n",
        "        print(\"Nilai harus berada di antara 0 dan 100.\")\n",
        "      else:\n",
        "        daftar_nilai.append(nilai)\n",
        "    except ValueError:\n",
        "      print(\"Input tidak valid. Harap masukkan angka atau 'selesai'.\")\n",
        "\n",
        "  if not daftar_nilai:\n",
        "    print(\"Tidak ada nilai yang dimasukkan.\")\n",
        "    return\n",
        "\n",
        "  rata_rata = sum(daftar_nilai) / len(daftar_nilai)\n",
        "  print(f\"\\nRata-rata nilai adalah: {rata_rata:.2f}\")\n",
        "\n",
        "  if rata_rata > 75:\n",
        "    print(\"Status: Lulus\")\n",
        "  else:\n",
        "    print(\"Status: Tidak Lulus\")\n",
        "\n",
        "# Memanggil fungsi utama\n",
        "hitung_rata_rata_dan_status()"
      ],
      "metadata": {
        "colab": {
          "base_uri": "https://localhost:8080/"
        },
        "id": "2S5vJNrmp7ho",
        "outputId": "cbf3bdf2-4b78-408b-a2d0-e8c7ec3be45c"
      },
      "execution_count": 8,
      "outputs": [
        {
          "output_type": "stream",
          "name": "stdout",
          "text": [
            "Masukkan nilai (atau ketik 'selesai' untuk mengakhiri): 89\n",
            "Masukkan nilai (atau ketik 'selesai' untuk mengakhiri): 90\n",
            "Masukkan nilai (atau ketik 'selesai' untuk mengakhiri): 96\n",
            "Masukkan nilai (atau ketik 'selesai' untuk mengakhiri): selesai\n",
            "\n",
            "Rata-rata nilai adalah: 91.67\n",
            "Status: Lulus\n"
          ]
        }
      ]
    }
  ]
}